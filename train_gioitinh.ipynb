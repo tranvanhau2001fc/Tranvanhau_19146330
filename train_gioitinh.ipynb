{
  "nbformat": 4,
  "nbformat_minor": 0,
  "metadata": {
    "colab": {
      "name": "train_gioitinh.ipynb",
      "provenance": [],
      "collapsed_sections": []
    },
    "kernelspec": {
      "name": "python3",
      "display_name": "Python 3"
    },
    "language_info": {
      "name": "python"
    },
    "accelerator": "GPU"
  },
  "cells": [
    {
      "cell_type": "code",
      "execution_count": null,
      "metadata": {
        "id": "iVildiDLR2TV"
      },
      "outputs": [],
      "source": [
        "\n",
        "from keras.utils                  import np_utils\n",
        "from keras.models                 import Sequential\n",
        "from keras.layers                 import Dense, Activation, BatchNormalization, Dropout, LSTM\n",
        "from keras.layers                 import Conv2D\n",
        "from keras.layers                 import MaxPooling2D\n",
        "from keras.layers                 import Flatten\n",
        "from keras.callbacks              import EarlyStopping \n",
        "from tensorflow.keras.optimizers  import SGD\n",
        "import matplotlib.pyplot as plt\n",
        "import numpy as np\n",
        "from matplotlib.image             import imread\n"
      ]
    },
    {
      "cell_type": "code",
      "source": [
        "from google.colab import drive\n",
        "drive.mount('/content/drive')"
      ],
      "metadata": {
        "colab": {
          "base_uri": "https://localhost:8080/"
        },
        "id": "YFpbju3ASsON",
        "outputId": "de4457f7-4e58-4ca4-8c1b-b7f3b38fea6f"
      },
      "execution_count": null,
      "outputs": [
        {
          "output_type": "stream",
          "name": "stdout",
          "text": [
            "Mounted at /content/drive\n"
          ]
        }
      ]
    },
    {
      "cell_type": "code",
      "source": [
        "from keras import datasets, Sequential\n",
        "from keras.layers import Conv2D, Dense, MaxPooling2D, Flatten\n",
        "import matplotlib.pyplot as plt\n",
        "from sklearn.metrics import confusion_matrix\n",
        "import numpy as np\n",
        "from keras.utils import np_utils\n",
        "from keras.datasets import cifar10\n",
        "import matplotlib.pyplot as plt\n",
        "from tensorflow.keras.optimizers import Adam\n",
        "from keras.preprocessing import  image\n",
        "from keras.preprocessing.image import load_img, img_to_array,array_to_img,ImageDataGenerator\n",
        "import numpy as np\n",
        "import os\n",
        "import cv2 as cv"
      ],
      "metadata": {
        "id": "hXFGOcKJTg_T"
      },
      "execution_count": null,
      "outputs": []
    },
    {
      "cell_type": "code",
      "source": [
        "###########################################################################################################\n",
        "danhsach = ['men','women']\n",
        "dir_train = '/content/drive/MyDrive/Project_AI_final/gio_tinh/gio_tinh' \n",
        "distpath = []\n",
        "y_train = []\n",
        "x_train = []\n",
        "x_test = []\n",
        "y_test = []\n",
        "# Tạo dữ liệu\n",
        "def create_data(dir, x_train, y_train):\n",
        "  for i in danhsach:\n",
        "    path = os.path.join(dir,i)\n",
        "    index_label = danhsach.index(i)\n",
        "    for j in os.listdir(path):\n",
        "      img_path = os.path.join(path, j)\n",
        "      img = image.load_img(img_path, target_size=(200,200)) # độ phân giải tùy ae chọn nhé!\n",
        "      img = img_to_array(img)\n",
        "      img = img.reshape(200,200,3) #hàm reshape phải có cùng độ phân giải với target_size của nhé\n",
        "      img = img.astype('float32')\n",
        "      img = img/255\n",
        "      x_train.append(img)\n",
        "      y_train.append(index_label)\n",
        "create_data(dir_train, x_train, y_train) #tạo dữ liệu \n",
        "# xử lí dữ liệu\n",
        "x_train = np.array(x_train)\n",
        "y_train = np.array(y_train)\n",
        "y_train = np_utils.to_categorical(y_train)\n",
        "print(x_train.shape) # nhớ chú ý kích thước hình ảnh để tí cho vào input của model\n",
        "print(y_train.shape)\n"
      ],
      "metadata": {
        "colab": {
          "base_uri": "https://localhost:8080/"
        },
        "id": "sYcQxtAjZQid",
        "outputId": "f52fceb1-f271-43b6-d5a0-475d65b8fc5b"
      },
      "execution_count": null,
      "outputs": [
        {
          "output_type": "stream",
          "name": "stdout",
          "text": [
            "(4853, 200, 200, 3)\n",
            "(4853, 2)\n"
          ]
        }
      ]
    },
    {
      "cell_type": "code",
      "source": [
        "model=Sequential()\n",
        "# Block 1/3\n",
        "model.add(Conv2D(32, (3, 3), activation='relu', kernel_initializer='he_uniform', padding='same', input_shape=(200, 200, 3))) # 32 lần sử dụng bộ lọc, bộ lọc có kích thước là 3x3  \n",
        "# khai báo bộ lọc kernel và padding là same nghĩa là ảnh trước khi lọc và sau khi lọc phải cùng kích thước\n",
        "model.add(MaxPooling2D((2, 2)))\n",
        "##################################################\n",
        "model.add(Flatten())\n",
        "model.add(Dense(128, activation='relu', kernel_initializer='he_uniform')) # Dense là full-connected, nối đầy đủ tế bào lại vs nhau\n",
        "model.add(Dense(2, activation='sigmoid'))\n"
      ],
      "metadata": {
        "id": "Q5KQRBMpe_Zn"
      },
      "execution_count": null,
      "outputs": []
    },
    {
      "cell_type": "code",
      "source": [
        "opt=SGD(learning_rate=0.01,momentum=0.9)\n",
        "model.compile(loss='binary_crossentropy',optimizer=opt, metrics=['accuracy'])\n",
        "history = model.fit(x_train,y_train,epochs = 100)\n"
      ],
      "metadata": {
        "colab": {
          "base_uri": "https://localhost:8080/"
        },
        "id": "vcXexrM0fOFz",
        "outputId": "290585d5-bd56-47d9-ec04-db692b2d2be4"
      },
      "execution_count": null,
      "outputs": [
        {
          "output_type": "stream",
          "name": "stdout",
          "text": [
            "Epoch 1/100\n",
            "152/152 [==============================] - 16s 31ms/step - loss: 0.7586 - accuracy: 0.7218\n",
            "Epoch 2/100\n",
            "152/152 [==============================] - 5s 30ms/step - loss: 0.3592 - accuracy: 0.8428\n",
            "Epoch 3/100\n",
            "152/152 [==============================] - 5s 31ms/step - loss: 0.3002 - accuracy: 0.8704\n",
            "Epoch 4/100\n",
            "152/152 [==============================] - 5s 30ms/step - loss: 0.2694 - accuracy: 0.8877\n",
            "Epoch 5/100\n",
            "152/152 [==============================] - 5s 30ms/step - loss: 0.2270 - accuracy: 0.9095\n",
            "Epoch 6/100\n",
            "152/152 [==============================] - 5s 30ms/step - loss: 0.1854 - accuracy: 0.9268\n",
            "Epoch 7/100\n",
            "152/152 [==============================] - 5s 30ms/step - loss: 0.1538 - accuracy: 0.9419\n",
            "Epoch 8/100\n",
            "152/152 [==============================] - 5s 30ms/step - loss: 0.1258 - accuracy: 0.9532\n",
            "Epoch 9/100\n",
            "152/152 [==============================] - 5s 30ms/step - loss: 0.0997 - accuracy: 0.9615\n",
            "Epoch 10/100\n",
            "152/152 [==============================] - 5s 30ms/step - loss: 0.1117 - accuracy: 0.9565\n",
            "Epoch 11/100\n",
            "152/152 [==============================] - 5s 32ms/step - loss: 0.0646 - accuracy: 0.9780\n",
            "Epoch 12/100\n",
            "152/152 [==============================] - 5s 33ms/step - loss: 0.0455 - accuracy: 0.9848\n",
            "Epoch 13/100\n",
            "152/152 [==============================] - 5s 31ms/step - loss: 0.0487 - accuracy: 0.9808\n",
            "Epoch 14/100\n",
            "152/152 [==============================] - 5s 30ms/step - loss: 0.0326 - accuracy: 0.9889\n",
            "Epoch 15/100\n",
            "152/152 [==============================] - 5s 30ms/step - loss: 0.0223 - accuracy: 0.9932\n",
            "Epoch 16/100\n",
            "152/152 [==============================] - 5s 30ms/step - loss: 0.0091 - accuracy: 0.9979\n",
            "Epoch 17/100\n",
            "152/152 [==============================] - 5s 31ms/step - loss: 0.0071 - accuracy: 0.9986\n",
            "Epoch 18/100\n",
            "152/152 [==============================] - 5s 30ms/step - loss: 0.0043 - accuracy: 0.9994\n",
            "Epoch 19/100\n",
            "152/152 [==============================] - 5s 30ms/step - loss: 0.0026 - accuracy: 0.9996\n",
            "Epoch 20/100\n",
            "152/152 [==============================] - 5s 30ms/step - loss: 0.0012 - accuracy: 1.0000\n",
            "Epoch 21/100\n",
            "152/152 [==============================] - 5s 30ms/step - loss: 8.9660e-04 - accuracy: 1.0000\n",
            "Epoch 22/100\n",
            "152/152 [==============================] - 5s 30ms/step - loss: 7.1684e-04 - accuracy: 1.0000\n",
            "Epoch 23/100\n",
            "152/152 [==============================] - 5s 30ms/step - loss: 6.3545e-04 - accuracy: 1.0000\n",
            "Epoch 24/100\n",
            "152/152 [==============================] - 5s 30ms/step - loss: 6.1788e-04 - accuracy: 1.0000\n",
            "Epoch 25/100\n",
            "152/152 [==============================] - 5s 30ms/step - loss: 5.0929e-04 - accuracy: 1.0000\n",
            "Epoch 26/100\n",
            "152/152 [==============================] - 5s 30ms/step - loss: 4.6565e-04 - accuracy: 1.0000\n",
            "Epoch 27/100\n",
            "152/152 [==============================] - 5s 30ms/step - loss: 4.2459e-04 - accuracy: 1.0000\n",
            "Epoch 28/100\n",
            "152/152 [==============================] - 5s 30ms/step - loss: 4.0032e-04 - accuracy: 1.0000\n",
            "Epoch 29/100\n",
            "152/152 [==============================] - 5s 31ms/step - loss: 3.7242e-04 - accuracy: 1.0000\n",
            "Epoch 30/100\n",
            "152/152 [==============================] - 5s 30ms/step - loss: 3.4175e-04 - accuracy: 1.0000\n",
            "Epoch 31/100\n",
            "152/152 [==============================] - 5s 30ms/step - loss: 3.2519e-04 - accuracy: 1.0000\n",
            "Epoch 32/100\n",
            "152/152 [==============================] - 5s 30ms/step - loss: 3.0714e-04 - accuracy: 1.0000\n",
            "Epoch 33/100\n",
            "152/152 [==============================] - 5s 30ms/step - loss: 2.9063e-04 - accuracy: 1.0000\n",
            "Epoch 34/100\n",
            "152/152 [==============================] - 5s 30ms/step - loss: 2.7660e-04 - accuracy: 1.0000\n",
            "Epoch 35/100\n",
            "152/152 [==============================] - 5s 30ms/step - loss: 2.6175e-04 - accuracy: 1.0000\n",
            "Epoch 36/100\n",
            "152/152 [==============================] - 5s 30ms/step - loss: 2.5292e-04 - accuracy: 1.0000\n",
            "Epoch 37/100\n",
            "152/152 [==============================] - 5s 30ms/step - loss: 2.4027e-04 - accuracy: 1.0000\n",
            "Epoch 38/100\n",
            "152/152 [==============================] - 5s 30ms/step - loss: 2.3113e-04 - accuracy: 1.0000\n",
            "Epoch 39/100\n",
            "152/152 [==============================] - 5s 30ms/step - loss: 2.1905e-04 - accuracy: 1.0000\n",
            "Epoch 40/100\n",
            "152/152 [==============================] - 5s 30ms/step - loss: 2.1388e-04 - accuracy: 1.0000\n",
            "Epoch 41/100\n",
            "152/152 [==============================] - 5s 30ms/step - loss: 2.0487e-04 - accuracy: 1.0000\n",
            "Epoch 42/100\n",
            "152/152 [==============================] - 5s 30ms/step - loss: 1.9833e-04 - accuracy: 1.0000\n",
            "Epoch 43/100\n",
            "152/152 [==============================] - 5s 30ms/step - loss: 1.9210e-04 - accuracy: 1.0000\n",
            "Epoch 44/100\n",
            "152/152 [==============================] - 5s 30ms/step - loss: 1.8419e-04 - accuracy: 1.0000\n",
            "Epoch 45/100\n",
            "152/152 [==============================] - 5s 30ms/step - loss: 1.7737e-04 - accuracy: 1.0000\n",
            "Epoch 46/100\n",
            "152/152 [==============================] - 5s 30ms/step - loss: 1.7147e-04 - accuracy: 1.0000\n",
            "Epoch 47/100\n",
            "152/152 [==============================] - 5s 30ms/step - loss: 1.6485e-04 - accuracy: 1.0000\n",
            "Epoch 48/100\n",
            "152/152 [==============================] - 5s 30ms/step - loss: 1.6186e-04 - accuracy: 1.0000\n",
            "Epoch 49/100\n",
            "152/152 [==============================] - 5s 30ms/step - loss: 1.5660e-04 - accuracy: 1.0000\n",
            "Epoch 50/100\n",
            "152/152 [==============================] - 5s 30ms/step - loss: 1.5143e-04 - accuracy: 1.0000\n",
            "Epoch 51/100\n",
            "152/152 [==============================] - 5s 30ms/step - loss: 1.4882e-04 - accuracy: 1.0000\n",
            "Epoch 52/100\n",
            "152/152 [==============================] - 5s 30ms/step - loss: 1.4416e-04 - accuracy: 1.0000\n",
            "Epoch 53/100\n",
            "152/152 [==============================] - 5s 30ms/step - loss: 1.3923e-04 - accuracy: 1.0000\n",
            "Epoch 54/100\n",
            "152/152 [==============================] - 5s 30ms/step - loss: 1.3632e-04 - accuracy: 1.0000\n",
            "Epoch 55/100\n",
            "152/152 [==============================] - 5s 30ms/step - loss: 1.3378e-04 - accuracy: 1.0000\n",
            "Epoch 56/100\n",
            "152/152 [==============================] - 5s 30ms/step - loss: 1.2923e-04 - accuracy: 1.0000\n",
            "Epoch 57/100\n",
            "152/152 [==============================] - 5s 30ms/step - loss: 1.2641e-04 - accuracy: 1.0000\n",
            "Epoch 58/100\n",
            "152/152 [==============================] - 5s 30ms/step - loss: 1.2378e-04 - accuracy: 1.0000\n",
            "Epoch 59/100\n",
            "152/152 [==============================] - 5s 31ms/step - loss: 1.2075e-04 - accuracy: 1.0000\n",
            "Epoch 60/100\n",
            "152/152 [==============================] - 5s 32ms/step - loss: 1.1741e-04 - accuracy: 1.0000\n",
            "Epoch 61/100\n",
            "152/152 [==============================] - 5s 32ms/step - loss: 1.1481e-04 - accuracy: 1.0000\n",
            "Epoch 62/100\n",
            "152/152 [==============================] - 5s 30ms/step - loss: 1.1244e-04 - accuracy: 1.0000\n",
            "Epoch 63/100\n",
            "152/152 [==============================] - 5s 31ms/step - loss: 1.1057e-04 - accuracy: 1.0000\n",
            "Epoch 64/100\n",
            "152/152 [==============================] - 5s 30ms/step - loss: 1.0758e-04 - accuracy: 1.0000\n",
            "Epoch 65/100\n",
            "152/152 [==============================] - 5s 30ms/step - loss: 1.0611e-04 - accuracy: 1.0000\n",
            "Epoch 66/100\n",
            "152/152 [==============================] - 5s 30ms/step - loss: 1.0316e-04 - accuracy: 1.0000\n",
            "Epoch 67/100\n",
            "152/152 [==============================] - 5s 30ms/step - loss: 1.0160e-04 - accuracy: 1.0000\n",
            "Epoch 68/100\n",
            "152/152 [==============================] - 5s 30ms/step - loss: 9.9272e-05 - accuracy: 1.0000\n",
            "Epoch 69/100\n",
            "152/152 [==============================] - 5s 30ms/step - loss: 9.8245e-05 - accuracy: 1.0000\n",
            "Epoch 70/100\n",
            "152/152 [==============================] - 5s 30ms/step - loss: 9.6020e-05 - accuracy: 1.0000\n",
            "Epoch 71/100\n",
            "152/152 [==============================] - 5s 31ms/step - loss: 9.4096e-05 - accuracy: 1.0000\n",
            "Epoch 72/100\n",
            "152/152 [==============================] - 5s 31ms/step - loss: 9.1880e-05 - accuracy: 1.0000\n",
            "Epoch 73/100\n",
            "152/152 [==============================] - 5s 30ms/step - loss: 9.0405e-05 - accuracy: 1.0000\n",
            "Epoch 74/100\n",
            "152/152 [==============================] - 5s 31ms/step - loss: 8.8647e-05 - accuracy: 1.0000\n",
            "Epoch 75/100\n",
            "152/152 [==============================] - 5s 30ms/step - loss: 8.7272e-05 - accuracy: 1.0000\n",
            "Epoch 76/100\n",
            "152/152 [==============================] - 5s 30ms/step - loss: 8.5884e-05 - accuracy: 1.0000\n",
            "Epoch 77/100\n",
            "152/152 [==============================] - 5s 30ms/step - loss: 8.4900e-05 - accuracy: 1.0000\n",
            "Epoch 78/100\n",
            "152/152 [==============================] - 5s 30ms/step - loss: 8.3261e-05 - accuracy: 1.0000\n",
            "Epoch 79/100\n",
            "152/152 [==============================] - 5s 30ms/step - loss: 8.1734e-05 - accuracy: 1.0000\n",
            "Epoch 80/100\n",
            "152/152 [==============================] - 5s 30ms/step - loss: 8.0632e-05 - accuracy: 1.0000\n",
            "Epoch 81/100\n",
            "152/152 [==============================] - 5s 30ms/step - loss: 7.8997e-05 - accuracy: 1.0000\n",
            "Epoch 82/100\n",
            "152/152 [==============================] - 5s 30ms/step - loss: 7.7784e-05 - accuracy: 1.0000\n",
            "Epoch 83/100\n",
            "152/152 [==============================] - 5s 30ms/step - loss: 7.6232e-05 - accuracy: 1.0000\n",
            "Epoch 84/100\n",
            "152/152 [==============================] - 5s 31ms/step - loss: 7.5610e-05 - accuracy: 1.0000\n",
            "Epoch 85/100\n",
            "152/152 [==============================] - 5s 30ms/step - loss: 7.4390e-05 - accuracy: 1.0000\n",
            "Epoch 86/100\n",
            "152/152 [==============================] - 5s 30ms/step - loss: 7.2947e-05 - accuracy: 1.0000\n",
            "Epoch 87/100\n",
            "152/152 [==============================] - 5s 30ms/step - loss: 7.2288e-05 - accuracy: 1.0000\n",
            "Epoch 88/100\n",
            "152/152 [==============================] - 5s 31ms/step - loss: 7.1385e-05 - accuracy: 1.0000\n",
            "Epoch 89/100\n",
            "152/152 [==============================] - 5s 30ms/step - loss: 7.0045e-05 - accuracy: 1.0000\n",
            "Epoch 90/100\n",
            "152/152 [==============================] - 5s 30ms/step - loss: 6.9027e-05 - accuracy: 1.0000\n",
            "Epoch 91/100\n",
            "152/152 [==============================] - 5s 30ms/step - loss: 6.8204e-05 - accuracy: 1.0000\n",
            "Epoch 92/100\n",
            "152/152 [==============================] - 5s 30ms/step - loss: 6.7313e-05 - accuracy: 1.0000\n",
            "Epoch 93/100\n",
            "152/152 [==============================] - 5s 30ms/step - loss: 6.6443e-05 - accuracy: 1.0000\n",
            "Epoch 94/100\n",
            "152/152 [==============================] - 5s 31ms/step - loss: 6.5301e-05 - accuracy: 1.0000\n",
            "Epoch 95/100\n",
            "152/152 [==============================] - 5s 30ms/step - loss: 6.4608e-05 - accuracy: 1.0000\n",
            "Epoch 96/100\n",
            "152/152 [==============================] - 5s 30ms/step - loss: 6.3773e-05 - accuracy: 1.0000\n",
            "Epoch 97/100\n",
            "152/152 [==============================] - 5s 30ms/step - loss: 6.2985e-05 - accuracy: 1.0000\n",
            "Epoch 98/100\n",
            "152/152 [==============================] - 5s 30ms/step - loss: 6.2052e-05 - accuracy: 1.0000\n",
            "Epoch 99/100\n",
            "152/152 [==============================] - 5s 30ms/step - loss: 6.1301e-05 - accuracy: 1.0000\n",
            "Epoch 100/100\n",
            "152/152 [==============================] - 5s 30ms/step - loss: 6.0491e-05 - accuracy: 1.0000\n"
          ]
        }
      ]
    },
    {
      "cell_type": "code",
      "source": [
        "model.save('/content/drive/MyDrive/Project_AI_final/gio_tinh/gioitinh.h5')"
      ],
      "metadata": {
        "id": "MvC5uuIeTfY-"
      },
      "execution_count": null,
      "outputs": []
    }
  ]
}