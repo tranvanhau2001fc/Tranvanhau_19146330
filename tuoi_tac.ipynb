{
  "nbformat": 4,
  "nbformat_minor": 0,
  "metadata": {
    "colab": {
      "name": "tuoi_tac.ipynb",
      "provenance": [],
      "collapsed_sections": []
    },
    "kernelspec": {
      "name": "python3",
      "display_name": "Python 3"
    },
    "language_info": {
      "name": "python"
    },
    "accelerator": "GPU",
    "gpuClass": "standard"
  },
  "cells": [
    {
      "cell_type": "code",
      "execution_count": null,
      "metadata": {
        "id": "iVildiDLR2TV"
      },
      "outputs": [],
      "source": [
        "\n",
        "from keras.utils                  import np_utils\n",
        "from keras.models                 import Sequential\n",
        "from keras.layers                 import Dense, Activation, BatchNormalization, Dropout, LSTM\n",
        "from keras.layers                 import Conv2D\n",
        "from keras.layers                 import MaxPooling2D\n",
        "from keras.layers                 import Flatten\n",
        "from keras.callbacks              import EarlyStopping \n",
        "from tensorflow.keras.optimizers  import SGD\n",
        "import matplotlib.pyplot as plt\n",
        "import numpy as np\n",
        "from matplotlib.image             import imread\n"
      ]
    },
    {
      "cell_type": "code",
      "source": [
        "from google.colab import drive\n",
        "drive.mount('/content/drive')"
      ],
      "metadata": {
        "colab": {
          "base_uri": "https://localhost:8080/"
        },
        "id": "YFpbju3ASsON",
        "outputId": "d5053b9d-5285-4b14-88ae-60647aba2d4b"
      },
      "execution_count": null,
      "outputs": [
        {
          "output_type": "stream",
          "name": "stdout",
          "text": [
            "Mounted at /content/drive\n"
          ]
        }
      ]
    },
    {
      "cell_type": "code",
      "source": [
        "from keras import datasets, Sequential\n",
        "from keras.layers import Conv2D, Dense, MaxPooling2D, Flatten\n",
        "import matplotlib.pyplot as plt\n",
        "from sklearn.metrics import confusion_matrix\n",
        "import numpy as np\n",
        "from keras.utils import np_utils\n",
        "from keras.datasets import cifar10\n",
        "import matplotlib.pyplot as plt\n",
        "from tensorflow.keras.optimizers import Adam\n",
        "from keras.preprocessing import  image\n",
        "from keras.preprocessing.image import load_img, img_to_array,array_to_img,ImageDataGenerator\n",
        "import numpy as np\n",
        "import os\n",
        "import cv2 as cv"
      ],
      "metadata": {
        "id": "hXFGOcKJTg_T"
      },
      "execution_count": null,
      "outputs": []
    },
    {
      "cell_type": "code",
      "source": [
        "###########################################################################################################\n",
        "danhsach = ['018','019','020','021','022','023','024','025','026','027','028','029','030','031','032','033','034','035','036','037','038','039','040']\n",
        "dir_train = '/content/drive/MyDrive/Project_AI_final/tuoi_tac/tuoi' \n",
        "distpath = []\n",
        "y_train = []\n",
        "x_train = []\n",
        "x_test = []\n",
        "y_test = []\n",
        "# Tạo dữ liệu\n",
        "def create_data(dir, x_train, y_train):\n",
        "  for i in danhsach:\n",
        "    path = os.path.join(dir,i)\n",
        "    index_label = danhsach.index(i)\n",
        "    for j in os.listdir(path):\n",
        "      img_path = os.path.join(path, j)\n",
        "      img = image.load_img(img_path, target_size=(200,200)) # độ phân giải tùy ae chọn nhé!\n",
        "      img = img_to_array(img)\n",
        "      img = img.reshape(200,200,3) #hàm reshape phải có cùng độ phân giải với target_size của nhé\n",
        "      img = img.astype('float32')\n",
        "      img = img/255\n",
        "      x_train.append(img)\n",
        "      y_train.append(index_label)\n",
        "create_data(dir_train, x_train, y_train) #tạo dữ liệu \n",
        "# xử lí dữ liệu\n",
        "x_train = np.array(x_train)\n",
        "y_train = np.array(y_train)\n",
        "y_train = np_utils.to_categorical(y_train)\n",
        "print(x_train.shape) # nhớ chú ý kích thước hình ảnh để tí cho vào input của model\n",
        "print(y_train.shape)\n"
      ],
      "metadata": {
        "colab": {
          "base_uri": "https://localhost:8080/"
        },
        "id": "sYcQxtAjZQid",
        "outputId": "0db7094a-8733-43fb-c719-f3da04f03678"
      },
      "execution_count": null,
      "outputs": [
        {
          "output_type": "stream",
          "name": "stdout",
          "text": [
            "(2875, 200, 200, 3)\n",
            "(2875, 23)\n"
          ]
        }
      ]
    },
    {
      "cell_type": "code",
      "source": [
        "model=Sequential()\n",
        "# Block 1/3\n",
        "model.add(Conv2D(32, (3, 3), activation='relu', kernel_initializer='he_uniform', padding='same', input_shape=(200, 200, 3))) # 32 lần sử dụng bộ lọc, bộ lọc có kích thước là 3x3  \n",
        "# khai báo bộ lọc kernel và padding là same nghĩa là ảnh trước khi lọc và sau khi lọc phải cùng kích thước\n",
        "model.add(MaxPooling2D((2, 2)))\n",
        "##################################################\n",
        "model.add(Flatten())\n",
        "model.add(Dense(128, activation='relu', kernel_initializer='he_uniform')) # Dense là full-connected, nối đầy đủ tế bào lại vs nhau\n",
        "model.add(Dense(23, activation='sigmoid'))\n"
      ],
      "metadata": {
        "id": "Q5KQRBMpe_Zn"
      },
      "execution_count": null,
      "outputs": []
    },
    {
      "cell_type": "code",
      "source": [
        "opt=SGD(learning_rate=0.01,momentum=0.9)\n",
        "model.compile(loss='binary_crossentropy',optimizer=opt, metrics=['accuracy'])\n",
        "history = model.fit(x_train,y_train,epochs = 100)\n"
      ],
      "metadata": {
        "colab": {
          "base_uri": "https://localhost:8080/"
        },
        "id": "vcXexrM0fOFz",
        "outputId": "dd4d56e2-ae04-4bd9-8541-be4f770d0a1a"
      },
      "execution_count": null,
      "outputs": [
        {
          "output_type": "stream",
          "name": "stdout",
          "text": [
            "Epoch 1/100\n",
            "90/90 [==============================] - 14s 32ms/step - loss: 0.3577 - accuracy: 0.0824\n",
            "Epoch 2/100\n",
            "90/90 [==============================] - 3s 31ms/step - loss: 0.1798 - accuracy: 0.0953\n",
            "Epoch 3/100\n",
            "90/90 [==============================] - 3s 31ms/step - loss: 0.1766 - accuracy: 0.1030\n",
            "Epoch 4/100\n",
            "90/90 [==============================] - 3s 31ms/step - loss: 0.1745 - accuracy: 0.1082\n",
            "Epoch 5/100\n",
            "90/90 [==============================] - 3s 31ms/step - loss: 0.1728 - accuracy: 0.1068\n",
            "Epoch 6/100\n",
            "90/90 [==============================] - 3s 31ms/step - loss: 0.1711 - accuracy: 0.1165\n",
            "Epoch 7/100\n",
            "90/90 [==============================] - 3s 31ms/step - loss: 0.1698 - accuracy: 0.1263\n",
            "Epoch 8/100\n",
            "90/90 [==============================] - 3s 31ms/step - loss: 0.1688 - accuracy: 0.1353\n",
            "Epoch 9/100\n",
            "90/90 [==============================] - 3s 31ms/step - loss: 0.1676 - accuracy: 0.1318\n",
            "Epoch 10/100\n",
            "90/90 [==============================] - 3s 31ms/step - loss: 0.1660 - accuracy: 0.1443\n",
            "Epoch 11/100\n",
            "90/90 [==============================] - 3s 30ms/step - loss: 0.1647 - accuracy: 0.1572\n",
            "Epoch 12/100\n",
            "90/90 [==============================] - 3s 31ms/step - loss: 0.1638 - accuracy: 0.1635\n",
            "Epoch 13/100\n",
            "90/90 [==============================] - 3s 31ms/step - loss: 0.1628 - accuracy: 0.1683\n",
            "Epoch 14/100\n",
            "90/90 [==============================] - 3s 31ms/step - loss: 0.1610 - accuracy: 0.1843\n",
            "Epoch 15/100\n",
            "90/90 [==============================] - 3s 31ms/step - loss: 0.1602 - accuracy: 0.1805\n",
            "Epoch 16/100\n",
            "90/90 [==============================] - 3s 31ms/step - loss: 0.1588 - accuracy: 0.1969\n",
            "Epoch 17/100\n",
            "90/90 [==============================] - 3s 31ms/step - loss: 0.1577 - accuracy: 0.1923\n",
            "Epoch 18/100\n",
            "90/90 [==============================] - 3s 31ms/step - loss: 0.1566 - accuracy: 0.1976\n",
            "Epoch 19/100\n",
            "90/90 [==============================] - 3s 32ms/step - loss: 0.1555 - accuracy: 0.2146\n",
            "Epoch 20/100\n",
            "90/90 [==============================] - 3s 31ms/step - loss: 0.1540 - accuracy: 0.2157\n",
            "Epoch 21/100\n",
            "90/90 [==============================] - 3s 32ms/step - loss: 0.1528 - accuracy: 0.2334\n",
            "Epoch 22/100\n",
            "90/90 [==============================] - 3s 31ms/step - loss: 0.1515 - accuracy: 0.2383\n",
            "Epoch 23/100\n",
            "90/90 [==============================] - 3s 31ms/step - loss: 0.1497 - accuracy: 0.2536\n",
            "Epoch 24/100\n",
            "90/90 [==============================] - 3s 31ms/step - loss: 0.1491 - accuracy: 0.2511\n",
            "Epoch 25/100\n",
            "90/90 [==============================] - 3s 31ms/step - loss: 0.1478 - accuracy: 0.2713\n",
            "Epoch 26/100\n",
            "90/90 [==============================] - 3s 31ms/step - loss: 0.1454 - accuracy: 0.2800\n",
            "Epoch 27/100\n",
            "90/90 [==============================] - 3s 31ms/step - loss: 0.1444 - accuracy: 0.2859\n",
            "Epoch 28/100\n",
            "90/90 [==============================] - 3s 31ms/step - loss: 0.1434 - accuracy: 0.2981\n",
            "Epoch 29/100\n",
            "90/90 [==============================] - 3s 31ms/step - loss: 0.1416 - accuracy: 0.3054\n",
            "Epoch 30/100\n",
            "90/90 [==============================] - 3s 31ms/step - loss: 0.1411 - accuracy: 0.2988\n",
            "Epoch 31/100\n",
            "90/90 [==============================] - 3s 31ms/step - loss: 0.1386 - accuracy: 0.3346\n",
            "Epoch 32/100\n",
            "90/90 [==============================] - 3s 31ms/step - loss: 0.1371 - accuracy: 0.3492\n",
            "Epoch 33/100\n",
            "90/90 [==============================] - 3s 31ms/step - loss: 0.1365 - accuracy: 0.3499\n",
            "Epoch 34/100\n",
            "90/90 [==============================] - 3s 31ms/step - loss: 0.1332 - accuracy: 0.3673\n",
            "Epoch 35/100\n",
            "90/90 [==============================] - 3s 31ms/step - loss: 0.1316 - accuracy: 0.3906\n",
            "Epoch 36/100\n",
            "90/90 [==============================] - 3s 31ms/step - loss: 0.1304 - accuracy: 0.3767\n",
            "Epoch 37/100\n",
            "90/90 [==============================] - 3s 31ms/step - loss: 0.1287 - accuracy: 0.3997\n",
            "Epoch 38/100\n",
            "90/90 [==============================] - 3s 31ms/step - loss: 0.1273 - accuracy: 0.3930\n",
            "Epoch 39/100\n",
            "90/90 [==============================] - 3s 31ms/step - loss: 0.1254 - accuracy: 0.4278\n",
            "Epoch 40/100\n",
            "90/90 [==============================] - 3s 32ms/step - loss: 0.1228 - accuracy: 0.4386\n",
            "Epoch 41/100\n",
            "90/90 [==============================] - 3s 31ms/step - loss: 0.1203 - accuracy: 0.4581\n",
            "Epoch 42/100\n",
            "90/90 [==============================] - 3s 31ms/step - loss: 0.1192 - accuracy: 0.4581\n",
            "Epoch 43/100\n",
            "90/90 [==============================] - 3s 31ms/step - loss: 0.1188 - accuracy: 0.4668\n",
            "Epoch 44/100\n",
            "90/90 [==============================] - 3s 31ms/step - loss: 0.1154 - accuracy: 0.5019\n",
            "Epoch 45/100\n",
            "90/90 [==============================] - 3s 31ms/step - loss: 0.1135 - accuracy: 0.5026\n",
            "Epoch 46/100\n",
            "90/90 [==============================] - 3s 31ms/step - loss: 0.1097 - accuracy: 0.5263\n",
            "Epoch 47/100\n",
            "90/90 [==============================] - 3s 31ms/step - loss: 0.1090 - accuracy: 0.5357\n",
            "Epoch 48/100\n",
            "90/90 [==============================] - 3s 31ms/step - loss: 0.1076 - accuracy: 0.5468\n",
            "Epoch 49/100\n",
            "90/90 [==============================] - 3s 31ms/step - loss: 0.1049 - accuracy: 0.5659\n",
            "Epoch 50/100\n",
            "90/90 [==============================] - 3s 31ms/step - loss: 0.1021 - accuracy: 0.5923\n",
            "Epoch 51/100\n",
            "90/90 [==============================] - 3s 31ms/step - loss: 0.0990 - accuracy: 0.6087\n",
            "Epoch 52/100\n",
            "90/90 [==============================] - 3s 31ms/step - loss: 0.0967 - accuracy: 0.6202\n",
            "Epoch 53/100\n",
            "90/90 [==============================] - 3s 31ms/step - loss: 0.0954 - accuracy: 0.6299\n",
            "Epoch 54/100\n",
            "90/90 [==============================] - 3s 31ms/step - loss: 0.0917 - accuracy: 0.6581\n",
            "Epoch 55/100\n",
            "90/90 [==============================] - 3s 31ms/step - loss: 0.0889 - accuracy: 0.6689\n",
            "Epoch 56/100\n",
            "90/90 [==============================] - 3s 31ms/step - loss: 0.0876 - accuracy: 0.6810\n",
            "Epoch 57/100\n",
            "90/90 [==============================] - 3s 31ms/step - loss: 0.0862 - accuracy: 0.6866\n",
            "Epoch 58/100\n",
            "90/90 [==============================] - 3s 31ms/step - loss: 0.0835 - accuracy: 0.6946\n",
            "Epoch 59/100\n",
            "90/90 [==============================] - 3s 31ms/step - loss: 0.0801 - accuracy: 0.7301\n",
            "Epoch 60/100\n",
            "90/90 [==============================] - 3s 31ms/step - loss: 0.0783 - accuracy: 0.7357\n",
            "Epoch 61/100\n",
            "90/90 [==============================] - 3s 32ms/step - loss: 0.0747 - accuracy: 0.7600\n",
            "Epoch 62/100\n",
            "90/90 [==============================] - 3s 31ms/step - loss: 0.0734 - accuracy: 0.7631\n",
            "Epoch 63/100\n",
            "90/90 [==============================] - 3s 32ms/step - loss: 0.0718 - accuracy: 0.7750\n",
            "Epoch 64/100\n",
            "90/90 [==============================] - 3s 32ms/step - loss: 0.0682 - accuracy: 0.7917\n",
            "Epoch 65/100\n",
            "90/90 [==============================] - 3s 31ms/step - loss: 0.0657 - accuracy: 0.8132\n",
            "Epoch 66/100\n",
            "90/90 [==============================] - 3s 31ms/step - loss: 0.0647 - accuracy: 0.8111\n",
            "Epoch 67/100\n",
            "90/90 [==============================] - 3s 31ms/step - loss: 0.0616 - accuracy: 0.8271\n",
            "Epoch 68/100\n",
            "90/90 [==============================] - 3s 31ms/step - loss: 0.0601 - accuracy: 0.8337\n",
            "Epoch 69/100\n",
            "90/90 [==============================] - 3s 31ms/step - loss: 0.0567 - accuracy: 0.8598\n",
            "Epoch 70/100\n",
            "90/90 [==============================] - 3s 31ms/step - loss: 0.0564 - accuracy: 0.8539\n",
            "Epoch 71/100\n",
            "90/90 [==============================] - 3s 31ms/step - loss: 0.0536 - accuracy: 0.8623\n",
            "Epoch 72/100\n",
            "90/90 [==============================] - 3s 31ms/step - loss: 0.0503 - accuracy: 0.8831\n",
            "Epoch 73/100\n",
            "90/90 [==============================] - 3s 31ms/step - loss: 0.0478 - accuracy: 0.8918\n",
            "Epoch 74/100\n",
            "90/90 [==============================] - 4s 44ms/step - loss: 0.0468 - accuracy: 0.8957\n",
            "Epoch 75/100\n",
            "90/90 [==============================] - 4s 43ms/step - loss: 0.0442 - accuracy: 0.9099\n",
            "Epoch 76/100\n",
            "90/90 [==============================] - 3s 32ms/step - loss: 0.0418 - accuracy: 0.9106\n",
            "Epoch 77/100\n",
            "90/90 [==============================] - 3s 32ms/step - loss: 0.0408 - accuracy: 0.9228\n",
            "Epoch 78/100\n",
            "90/90 [==============================] - 3s 34ms/step - loss: 0.0409 - accuracy: 0.9217\n",
            "Epoch 79/100\n",
            "90/90 [==============================] - 3s 32ms/step - loss: 0.0369 - accuracy: 0.9454\n",
            "Epoch 80/100\n",
            "90/90 [==============================] - 3s 35ms/step - loss: 0.0349 - accuracy: 0.9419\n",
            "Epoch 81/100\n",
            "90/90 [==============================] - 3s 34ms/step - loss: 0.0332 - accuracy: 0.9541\n",
            "Epoch 82/100\n",
            "90/90 [==============================] - 3s 33ms/step - loss: 0.0315 - accuracy: 0.9520\n",
            "Epoch 83/100\n",
            "90/90 [==============================] - 3s 32ms/step - loss: 0.0296 - accuracy: 0.9583\n",
            "Epoch 84/100\n",
            "90/90 [==============================] - 3s 32ms/step - loss: 0.0303 - accuracy: 0.9593\n",
            "Epoch 85/100\n",
            "90/90 [==============================] - 3s 31ms/step - loss: 0.0269 - accuracy: 0.9673\n",
            "Epoch 86/100\n",
            "90/90 [==============================] - 3s 31ms/step - loss: 0.0268 - accuracy: 0.9687\n",
            "Epoch 87/100\n",
            "90/90 [==============================] - 3s 31ms/step - loss: 0.0264 - accuracy: 0.9683\n",
            "Epoch 88/100\n",
            "90/90 [==============================] - 3s 31ms/step - loss: 0.0249 - accuracy: 0.9743\n",
            "Epoch 89/100\n",
            "90/90 [==============================] - 3s 31ms/step - loss: 0.0236 - accuracy: 0.9729\n",
            "Epoch 90/100\n",
            "90/90 [==============================] - 3s 31ms/step - loss: 0.0228 - accuracy: 0.9725\n",
            "Epoch 91/100\n",
            "90/90 [==============================] - 3s 31ms/step - loss: 0.0206 - accuracy: 0.9805\n",
            "Epoch 92/100\n",
            "90/90 [==============================] - 3s 31ms/step - loss: 0.0186 - accuracy: 0.9823\n",
            "Epoch 93/100\n",
            "90/90 [==============================] - 3s 31ms/step - loss: 0.0167 - accuracy: 0.9861\n",
            "Epoch 94/100\n",
            "90/90 [==============================] - 3s 31ms/step - loss: 0.0179 - accuracy: 0.9850\n",
            "Epoch 95/100\n",
            "90/90 [==============================] - 3s 31ms/step - loss: 0.0169 - accuracy: 0.9861\n",
            "Epoch 96/100\n",
            "90/90 [==============================] - 3s 31ms/step - loss: 0.0151 - accuracy: 0.9875\n",
            "Epoch 97/100\n",
            "90/90 [==============================] - 3s 32ms/step - loss: 0.0148 - accuracy: 0.9864\n",
            "Epoch 98/100\n",
            "90/90 [==============================] - 3s 33ms/step - loss: 0.0140 - accuracy: 0.9903\n",
            "Epoch 99/100\n",
            "90/90 [==============================] - 3s 34ms/step - loss: 0.0137 - accuracy: 0.9892\n",
            "Epoch 100/100\n",
            "90/90 [==============================] - 3s 31ms/step - loss: 0.0119 - accuracy: 0.9910\n"
          ]
        }
      ]
    },
    {
      "cell_type": "code",
      "source": [
        "model.save('/content/drive/MyDrive/Project_AI_final/tuoi_tac/tuoi/tuoi_tac.h5')"
      ],
      "metadata": {
        "id": "MvC5uuIeTfY-"
      },
      "execution_count": null,
      "outputs": []
    }
  ]
}